{
 "cells": [
  {
   "cell_type": "code",
   "execution_count": 4,
   "id": "bf8a3e2c",
   "metadata": {},
   "outputs": [
    {
     "name": "stderr",
     "output_type": "stream",
     "text": [
      "Procesando CAT11_fincas.csv: 100%|███████████████████████████████████████████████████| 282/282 [01:20<00:00,  3.52it/s]\n"
     ]
    },
    {
     "name": "stdout",
     "output_type": "stream",
     "text": [
      "✅ Exportado CAT11_fincas.csv con 931224 registros.\n"
     ]
    },
    {
     "name": "stderr",
     "output_type": "stream",
     "text": [
      "Procesando CAT13_uc.csv: 100%|███████████████████████████████████████████████████████| 282/282 [01:14<00:00,  3.78it/s]\n"
     ]
    },
    {
     "name": "stdout",
     "output_type": "stream",
     "text": [
      "✅ Exportado CAT13_uc.csv con 998626 registros.\n"
     ]
    },
    {
     "name": "stderr",
     "output_type": "stream",
     "text": [
      "Procesando CAT14_const.csv: 100%|████████████████████████████████████████████████████| 282/282 [01:23<00:00,  3.37it/s]\n"
     ]
    },
    {
     "name": "stdout",
     "output_type": "stream",
     "text": [
      "✅ Exportado CAT14_const.csv con 3520260 registros.\n"
     ]
    },
    {
     "name": "stderr",
     "output_type": "stream",
     "text": [
      "Procesando CAT15_inmuebles.csv: 100%|████████████████████████████████████████████████| 282/282 [01:26<00:00,  3.24it/s]\n"
     ]
    },
    {
     "name": "stdout",
     "output_type": "stream",
     "text": [
      "✅ Exportado CAT15_inmuebles.csv con 2577618 registros.\n"
     ]
    },
    {
     "name": "stderr",
     "output_type": "stream",
     "text": [
      "Procesando CAT16_reparto.csv: 100%|██████████████████████████████████████████████████| 282/282 [01:08<00:00,  4.09it/s]\n"
     ]
    },
    {
     "name": "stdout",
     "output_type": "stream",
     "text": [
      "✅ Exportado CAT16_reparto.csv con 141528 registros.\n"
     ]
    },
    {
     "name": "stderr",
     "output_type": "stream",
     "text": [
      "Procesando CAT17_cultivos.csv: 100%|█████████████████████████████████████████████████| 282/282 [01:12<00:00,  3.86it/s]\n"
     ]
    },
    {
     "name": "stdout",
     "output_type": "stream",
     "text": [
      "✅ Exportado CAT17_cultivos.csv con 759602 registros.\n"
     ]
    }
   ],
   "source": [
    "\n",
    "import gzip\n",
    "import pandas as pd\n",
    "from pathlib import Path\n",
    "from concurrent.futures import ThreadPoolExecutor\n",
    "from tqdm import tqdm\n",
    "\n",
    "# Ruta a la carpeta donde están los archivos .CAT.gz\n",
    "carpeta_urbana = Path(\"C:\\\\Users\\\\joselef\\\\Downloads\\\\2025042214341852038_PETICION_DESCARGA_CAT\\\\03_U_17012025_CAT\\\\03_U_17012025_CAT\")  # <- CAMBIA ESTO\n",
    "carpeta_rustica = Path(\"C:\\\\Users\\\\joselef\\\\Downloads\\\\2025042307514431841_PETICION_DESCARGA_CAT\\\\03_R_17012025_CAT\\\\03_R_17012025_CAT\") # CAMBIA ESTO\n",
    "\n",
    "\n",
    "# Funciones de extracción por tipo de registro\n",
    "def procesar_cat11(lineas):\n",
    "    registros = []\n",
    "    for linea in lineas:\n",
    "        if linea.startswith(\"11\"):\n",
    "            try:\n",
    "                registros.append({\n",
    "                    \"delegacion\": linea[23:25].strip(),\n",
    "                    \"municipio_dgc\": linea[25:28].strip(),\n",
    "                    \"ref_catastral\": linea[30:44].strip(),\n",
    "                    \"provincia\": linea[52:77].strip(),\n",
    "                    \"municipio\": linea[83:123].strip(),\n",
    "                    \"via\": linea[163:188].strip(),\n",
    "                    \"num_pol\": linea[188:192].strip(),\n",
    "                    \"superficie_finca\": float(linea[295:305].replace(\",\", \".\")),\n",
    "                    \"sup_const_total\": float(linea[305:312].replace(\",\", \".\")),\n",
    "                    \"sup_const_sobre\": float(linea[312:319].replace(\",\", \".\")),\n",
    "                    \"sup_const_bajo\": float(linea[319:326].replace(\",\", \".\")),\n",
    "                    \"coor_x\": float(linea[333:342].replace(\",\", \".\")),\n",
    "                    \"coor_y\": float(linea[342:352].replace(\",\", \".\")),\n",
    "                    \"epsg\": linea[666:676].strip()\n",
    "                })\n",
    "            except Exception as e:\n",
    "                print(f\"[CAT11] Error: {e}\\n{linea}\")\n",
    "    return pd.DataFrame(registros)\n",
    "\n",
    "def procesar_cat13(lineas):\n",
    "    registros = []\n",
    "    for linea in lineas:\n",
    "        if linea.startswith(\"13\"):\n",
    "            try:\n",
    "                registros.append({\n",
    "                    \"ref_catastral\": linea[30:44].strip(),\n",
    "                    \"codigo_uc\": linea[44:48].strip(),\n",
    "                    \"provincia\": linea[52:77].strip(),\n",
    "                    \"municipio\": linea[83:123].strip(),\n",
    "                    \"via\": linea[163:188].strip(),\n",
    "                    \"num_pol\": linea[188:192].strip(),\n",
    "                    \"anio_construccion\": linea[295:299].strip(),\n",
    "                    \"sup_ocupada\": float(linea[300:307].replace(\",\", \".\"))\n",
    "                })\n",
    "            except Exception as e:\n",
    "                print(f\"[CAT13] Error: {e}\\n{linea}\")\n",
    "    return pd.DataFrame(registros)\n",
    "\n",
    "def procesar_cat14(lineas):\n",
    "    registros = []\n",
    "    for linea in lineas:\n",
    "        if linea.startswith(\"14\"):\n",
    "            try:\n",
    "                registros.append({\n",
    "                    \"ref_catastral\": linea[30:44].strip(),\n",
    "                    \"codigo_construccion\": linea[44:48].strip(),\n",
    "                    \"codigo_uc\": linea[54:58].strip(),\n",
    "                    \"destino\": linea[70:73].strip(),\n",
    "                    \"anio_reforma\": linea[74:78].strip(),\n",
    "                    \"sup_total\": float(linea[83:90].replace(\",\", \".\"))\n",
    "                })\n",
    "            except Exception as e:\n",
    "                print(f\"[CAT14] Error: {e}\\n{linea}\")\n",
    "    return pd.DataFrame(registros)\n",
    "\n",
    "def procesar_cat15(lineas):\n",
    "    registros = []\n",
    "    for linea in lineas:\n",
    "        if linea.startswith(\"15\"):\n",
    "            try:\n",
    "                registros.append({\n",
    "                    \"ref_catastral\": linea[30:44].strip(),\n",
    "                    \"num_cargo\": linea[44:48].strip(),\n",
    "                    \"provincia\": linea[94:119].strip(),\n",
    "                    \"municipio\": linea[125:165].strip(),\n",
    "                    \"via\": linea[205:230].strip(),\n",
    "                    \"num_pol\": linea[230:234].strip(),\n",
    "                    \"sup_constructiva\": float(linea[441:451].replace(\",\", \".\")),\n",
    "                    \"sup_suelo\": float(linea[451:461].replace(\",\", \".\")),\n",
    "                    \"coef_propiedad\": float(linea[461:470].replace(\",\", \".\"))\n",
    "                })\n",
    "            except Exception as e:\n",
    "                print(f\"[CAT15] Error: {e}\\n{linea}\")\n",
    "    return pd.DataFrame(registros)\n",
    "\n",
    "def procesar_cat16(lineas):\n",
    "    registros = []\n",
    "    for linea in lineas:\n",
    "        if linea.startswith(\"16\"):\n",
    "            try:\n",
    "                registros.append({\n",
    "                    \"ref_catastral\": linea[30:44].strip(),\n",
    "                    \"elemento\": linea[44:48].strip(),\n",
    "                    \"reparto1\": linea[50:54].strip(),\n",
    "                    \"porcentaje1\": float(linea[54:60].replace(\",\", \".\"))\n",
    "                })\n",
    "            except Exception as e:\n",
    "                print(f\"[CAT16] Error: {e}\\n{linea}\")\n",
    "    return pd.DataFrame(registros)\n",
    "\n",
    "def procesar_cat17(lineas):\n",
    "    registros = []\n",
    "    for linea in lineas:\n",
    "        if linea.startswith(\"17\"):\n",
    "            try:\n",
    "                registros.append({\n",
    "                    \"ref_catastral\": linea[30:44].strip(),\n",
    "                    \"codigo_subparcela\": linea[44:48].strip(),\n",
    "                    \"tipo\": linea[54].strip(),\n",
    "                    \"sup_subparcela\": float(linea[55:65].replace(\",\", \".\")),\n",
    "                    \"cultivo\": linea[67:107].strip()\n",
    "                })\n",
    "            except Exception as e:\n",
    "                print(f\"[CAT17] Error: {e}\\n{linea}\")\n",
    "    return pd.DataFrame(registros)\n",
    "\n",
    "# Lista de funciones a ejecutar\n",
    "tipos = {\n",
    "    \"CAT11_fincas.csv\": procesar_cat11,\n",
    "    \"CAT13_uc.csv\": procesar_cat13,\n",
    "    \"CAT14_const.csv\": procesar_cat14,\n",
    "    \"CAT15_inmuebles.csv\": procesar_cat15,\n",
    "    \"CAT16_reparto.csv\": procesar_cat16,\n",
    "    \"CAT17_cultivos.csv\": procesar_cat17,\n",
    "}\n",
    "\n",
    "# Unificar archivos de urbana y rústica\n",
    "archivos_cat = list(carpeta_urbana.glob(\"*.CAT.gz\")) + list(carpeta_rustica.glob(\"*.CAT.gz\"))\n",
    "\n",
    "# Proceso igual que antes\n",
    "for nombre_archivo, funcion in tipos.items():\n",
    "    todos_los_datos = []\n",
    "\n",
    "    def procesar_archivo(archivo):\n",
    "        with gzip.open(archivo, 'rt', encoding='cp1252') as f:\n",
    "            lineas = f.readlines()\n",
    "            return funcion(lineas)\n",
    "\n",
    "    with ThreadPoolExecutor() as executor:\n",
    "        for df in tqdm(executor.map(procesar_archivo, archivos_cat), total=len(archivos_cat), desc=f\"Procesando {nombre_archivo}\"):\n",
    "            if not df.empty:\n",
    "                todos_los_datos.append(df)\n",
    "\n",
    "    if todos_los_datos:\n",
    "        df_final = pd.concat(todos_los_datos, ignore_index=True)\n",
    "        df_final.to_csv(nombre_archivo, index=False, encoding='utf-8-sig')\n",
    "        print(f\"Exportado {nombre_archivo} con {len(df_final)} registros.\")\n",
    "    else:\n",
    "        print(f\"No se encontraron datos para {nombre_archivo}.\")\n"
   ]
  },
  {
   "cell_type": "code",
   "execution_count": null,
   "id": "c0719f49",
   "metadata": {},
   "outputs": [],
   "source": []
  }
 ],
 "metadata": {
  "kernelspec": {
   "display_name": "Python 3 (ipykernel)",
   "language": "python",
   "name": "python3"
  },
  "language_info": {
   "codemirror_mode": {
    "name": "ipython",
    "version": 3
   },
   "file_extension": ".py",
   "mimetype": "text/x-python",
   "name": "python",
   "nbconvert_exporter": "python",
   "pygments_lexer": "ipython3",
   "version": "3.9.12"
  }
 },
 "nbformat": 4,
 "nbformat_minor": 5
}
